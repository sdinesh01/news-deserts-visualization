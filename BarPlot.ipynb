{
  "nbformat": 4,
  "nbformat_minor": 0,
  "metadata": {
    "colab": {
      "provenance": [],
      "mount_file_id": "114k8d11a_6l3CASf6saCj2q-FkXyjpK6",
      "authorship_tag": "ABX9TyNpGVZXcqkHvtP+sgLrstzP",
      "include_colab_link": true
    },
    "kernelspec": {
      "name": "python3",
      "display_name": "Python 3"
    },
    "language_info": {
      "name": "python"
    }
  },
  "cells": [
    {
      "cell_type": "markdown",
      "metadata": {
        "id": "view-in-github",
        "colab_type": "text"
      },
      "source": [
        "<a href=\"https://colab.research.google.com/github/sdinesh01/news-deserts-visualization/blob/main/BarPlot.ipynb\" target=\"_parent\"><img src=\"https://colab.research.google.com/assets/colab-badge.svg\" alt=\"Open In Colab\"/></a>"
      ]
    },
    {
      "cell_type": "markdown",
      "source": [
        "###packages"
      ],
      "metadata": {
        "id": "dJHgM2khH60F"
      }
    },
    {
      "cell_type": "code",
      "execution_count": null,
      "metadata": {
        "colab": {
          "base_uri": "https://localhost:8080/"
        },
        "id": "ZrfE_26mHq6e",
        "outputId": "5d43aba1-f9d2-4b0a-9df2-681a3a41343d"
      },
      "outputs": [
        {
          "output_type": "stream",
          "name": "stdout",
          "text": [
            "Mounted at /content/drive\n"
          ]
        }
      ],
      "source": [
        "from google.colab import drive\n",
        "drive.mount('/content/drive')"
      ]
    },
    {
      "cell_type": "code",
      "source": [
        "import pandas as pd\n",
        "import numpy as np\n",
        "import statsmodels as sm\n",
        "import matplotlib.pyplot as plt\n",
        "import seaborn as sns\n",
        "from plotnine import *\n",
        "from plotly import *\n",
        "import plotly\n",
        "import plotly.graph_objects as go\n",
        "import plotly.express as px\n",
        "from plotly.subplots import make_subplots\n",
        "import io\n",
        "import PIL"
      ],
      "metadata": {
        "id": "dBHj9hwQHvZs"
      },
      "execution_count": null,
      "outputs": []
    },
    {
      "cell_type": "code",
      "source": [],
      "metadata": {
        "id": "xwrynnzxH3fr"
      },
      "execution_count": null,
      "outputs": []
    },
    {
      "cell_type": "markdown",
      "source": [
        "## Data import 2"
      ],
      "metadata": {
        "id": "PZVqCalCQgHA"
      }
    },
    {
      "cell_type": "code",
      "source": [
        "data = pd.read_csv('/content/drive/MyDrive/Colab Notebooks/DATA340/assignments/Final/data-KVnb0.csv')\n",
        "data['Total Deal Volume ($)'] = data['Total Deal Volume ($)'].str.replace(',','').astype(int)\n",
        "data"
      ],
      "metadata": {
        "id": "EDsWP25zQiu8"
      },
      "execution_count": null,
      "outputs": []
    },
    {
      "cell_type": "markdown",
      "source": [
        "### data import"
      ],
      "metadata": {
        "id": "pGqdupVIH8no"
      }
    },
    {
      "cell_type": "code",
      "source": [
        "from xlrd.book import sheet\n",
        "# for graph on \n",
        "pub_data_20 = pd.read_excel('/content/drive/MyDrive/Colab Notebooks/DATA340/assignments/Final/UNCNewspaperDatabase_12_17_20.xlsx', sheet_name='UNC 2020 Newspapers')\n",
        "pub_data_20['year'] = '2020'"
      ],
      "metadata": {
        "id": "Ancz2llrH9bB"
      },
      "execution_count": null,
      "outputs": []
    },
    {
      "cell_type": "code",
      "source": [
        "pub_data_20.head(7)"
      ],
      "metadata": {
        "colab": {
          "base_uri": "https://localhost:8080/",
          "height": 365
        },
        "id": "2O4GOL0JIPi5",
        "outputId": "b09009e0-f8b1-48a1-b916-6719b569b065"
      },
      "execution_count": null,
      "outputs": [
        {
          "output_type": "execute_result",
          "data": {
            "text/plain": [
              "  state  newspaper_id                                newspaper_name frequency  \\\n",
              "0    AK         50003                               Anchorage Press         W   \n",
              "1    AK         18776  The Bristol Bay Times/Dutch Harbor Fisherman         W   \n",
              "2    AK         18654                            The Arctic Sounder         W   \n",
              "3    AK         10092                          Anchorage Daily News         D   \n",
              "4    AK         18943                             The Cordova Times         W   \n",
              "5    AK         19009                                    Delta Wind         W   \n",
              "6    AK         90670                                   Alaska Star         W   \n",
              "\n",
              "             city                           county  owner_id  \\\n",
              "0       Anchorage           Anchorage Municipality    5813.0   \n",
              "1       Anchorage           Anchorage Municipality    6028.0   \n",
              "2       Anchorage           Anchorage Municipality    6028.0   \n",
              "3       Anchorage           Anchorage Municipality    6028.0   \n",
              "4         Cordova                   Valdez-Cordova    6045.0   \n",
              "5  Delta Junction  Southeast Fairbanks Census Area    5504.0   \n",
              "6     Eagle River           Anchorage Municipality    4018.0   \n",
              "\n",
              "                      owner_name owner_type  total_circulation days_published  \\\n",
              "0            Wick Communications    Private            20000.0              1   \n",
              "1     Ryan Binkley & Jason Evans    Private                NaN              1   \n",
              "2     Ryan Binkley & Jason Evans    Private             2000.0              1   \n",
              "3     Ryan Binkley & Jason Evans    Private            33301.0              7   \n",
              "4         Native Village of Eyak    Private              969.0              1   \n",
              "5                   TriDelta Inc    Private                NaN              1   \n",
              "6  Morris Communications Company    Private             4800.0           Thur   \n",
              "\n",
              "   year  \n",
              "0  2020  \n",
              "1  2020  \n",
              "2  2020  \n",
              "3  2020  \n",
              "4  2020  \n",
              "5  2020  \n",
              "6  2020  "
            ],
            "text/html": [
              "\n",
              "  <div id=\"df-72e59e89-42ca-4e5d-b70b-f8984f02da5f\">\n",
              "    <div class=\"colab-df-container\">\n",
              "      <div>\n",
              "<style scoped>\n",
              "    .dataframe tbody tr th:only-of-type {\n",
              "        vertical-align: middle;\n",
              "    }\n",
              "\n",
              "    .dataframe tbody tr th {\n",
              "        vertical-align: top;\n",
              "    }\n",
              "\n",
              "    .dataframe thead th {\n",
              "        text-align: right;\n",
              "    }\n",
              "</style>\n",
              "<table border=\"1\" class=\"dataframe\">\n",
              "  <thead>\n",
              "    <tr style=\"text-align: right;\">\n",
              "      <th></th>\n",
              "      <th>state</th>\n",
              "      <th>newspaper_id</th>\n",
              "      <th>newspaper_name</th>\n",
              "      <th>frequency</th>\n",
              "      <th>city</th>\n",
              "      <th>county</th>\n",
              "      <th>owner_id</th>\n",
              "      <th>owner_name</th>\n",
              "      <th>owner_type</th>\n",
              "      <th>total_circulation</th>\n",
              "      <th>days_published</th>\n",
              "      <th>year</th>\n",
              "    </tr>\n",
              "  </thead>\n",
              "  <tbody>\n",
              "    <tr>\n",
              "      <th>0</th>\n",
              "      <td>AK</td>\n",
              "      <td>50003</td>\n",
              "      <td>Anchorage Press</td>\n",
              "      <td>W</td>\n",
              "      <td>Anchorage</td>\n",
              "      <td>Anchorage Municipality</td>\n",
              "      <td>5813.0</td>\n",
              "      <td>Wick Communications</td>\n",
              "      <td>Private</td>\n",
              "      <td>20000.0</td>\n",
              "      <td>1</td>\n",
              "      <td>2020</td>\n",
              "    </tr>\n",
              "    <tr>\n",
              "      <th>1</th>\n",
              "      <td>AK</td>\n",
              "      <td>18776</td>\n",
              "      <td>The Bristol Bay Times/Dutch Harbor Fisherman</td>\n",
              "      <td>W</td>\n",
              "      <td>Anchorage</td>\n",
              "      <td>Anchorage Municipality</td>\n",
              "      <td>6028.0</td>\n",
              "      <td>Ryan Binkley &amp; Jason Evans</td>\n",
              "      <td>Private</td>\n",
              "      <td>NaN</td>\n",
              "      <td>1</td>\n",
              "      <td>2020</td>\n",
              "    </tr>\n",
              "    <tr>\n",
              "      <th>2</th>\n",
              "      <td>AK</td>\n",
              "      <td>18654</td>\n",
              "      <td>The Arctic Sounder</td>\n",
              "      <td>W</td>\n",
              "      <td>Anchorage</td>\n",
              "      <td>Anchorage Municipality</td>\n",
              "      <td>6028.0</td>\n",
              "      <td>Ryan Binkley &amp; Jason Evans</td>\n",
              "      <td>Private</td>\n",
              "      <td>2000.0</td>\n",
              "      <td>1</td>\n",
              "      <td>2020</td>\n",
              "    </tr>\n",
              "    <tr>\n",
              "      <th>3</th>\n",
              "      <td>AK</td>\n",
              "      <td>10092</td>\n",
              "      <td>Anchorage Daily News</td>\n",
              "      <td>D</td>\n",
              "      <td>Anchorage</td>\n",
              "      <td>Anchorage Municipality</td>\n",
              "      <td>6028.0</td>\n",
              "      <td>Ryan Binkley &amp; Jason Evans</td>\n",
              "      <td>Private</td>\n",
              "      <td>33301.0</td>\n",
              "      <td>7</td>\n",
              "      <td>2020</td>\n",
              "    </tr>\n",
              "    <tr>\n",
              "      <th>4</th>\n",
              "      <td>AK</td>\n",
              "      <td>18943</td>\n",
              "      <td>The Cordova Times</td>\n",
              "      <td>W</td>\n",
              "      <td>Cordova</td>\n",
              "      <td>Valdez-Cordova</td>\n",
              "      <td>6045.0</td>\n",
              "      <td>Native Village of Eyak</td>\n",
              "      <td>Private</td>\n",
              "      <td>969.0</td>\n",
              "      <td>1</td>\n",
              "      <td>2020</td>\n",
              "    </tr>\n",
              "    <tr>\n",
              "      <th>5</th>\n",
              "      <td>AK</td>\n",
              "      <td>19009</td>\n",
              "      <td>Delta Wind</td>\n",
              "      <td>W</td>\n",
              "      <td>Delta Junction</td>\n",
              "      <td>Southeast Fairbanks Census Area</td>\n",
              "      <td>5504.0</td>\n",
              "      <td>TriDelta Inc</td>\n",
              "      <td>Private</td>\n",
              "      <td>NaN</td>\n",
              "      <td>1</td>\n",
              "      <td>2020</td>\n",
              "    </tr>\n",
              "    <tr>\n",
              "      <th>6</th>\n",
              "      <td>AK</td>\n",
              "      <td>90670</td>\n",
              "      <td>Alaska Star</td>\n",
              "      <td>W</td>\n",
              "      <td>Eagle River</td>\n",
              "      <td>Anchorage Municipality</td>\n",
              "      <td>4018.0</td>\n",
              "      <td>Morris Communications Company</td>\n",
              "      <td>Private</td>\n",
              "      <td>4800.0</td>\n",
              "      <td>Thur</td>\n",
              "      <td>2020</td>\n",
              "    </tr>\n",
              "  </tbody>\n",
              "</table>\n",
              "</div>\n",
              "      <button class=\"colab-df-convert\" onclick=\"convertToInteractive('df-72e59e89-42ca-4e5d-b70b-f8984f02da5f')\"\n",
              "              title=\"Convert this dataframe to an interactive table.\"\n",
              "              style=\"display:none;\">\n",
              "        \n",
              "  <svg xmlns=\"http://www.w3.org/2000/svg\" height=\"24px\"viewBox=\"0 0 24 24\"\n",
              "       width=\"24px\">\n",
              "    <path d=\"M0 0h24v24H0V0z\" fill=\"none\"/>\n",
              "    <path d=\"M18.56 5.44l.94 2.06.94-2.06 2.06-.94-2.06-.94-.94-2.06-.94 2.06-2.06.94zm-11 1L8.5 8.5l.94-2.06 2.06-.94-2.06-.94L8.5 2.5l-.94 2.06-2.06.94zm10 10l.94 2.06.94-2.06 2.06-.94-2.06-.94-.94-2.06-.94 2.06-2.06.94z\"/><path d=\"M17.41 7.96l-1.37-1.37c-.4-.4-.92-.59-1.43-.59-.52 0-1.04.2-1.43.59L10.3 9.45l-7.72 7.72c-.78.78-.78 2.05 0 2.83L4 21.41c.39.39.9.59 1.41.59.51 0 1.02-.2 1.41-.59l7.78-7.78 2.81-2.81c.8-.78.8-2.07 0-2.86zM5.41 20L4 18.59l7.72-7.72 1.47 1.35L5.41 20z\"/>\n",
              "  </svg>\n",
              "      </button>\n",
              "      \n",
              "  <style>\n",
              "    .colab-df-container {\n",
              "      display:flex;\n",
              "      flex-wrap:wrap;\n",
              "      gap: 12px;\n",
              "    }\n",
              "\n",
              "    .colab-df-convert {\n",
              "      background-color: #E8F0FE;\n",
              "      border: none;\n",
              "      border-radius: 50%;\n",
              "      cursor: pointer;\n",
              "      display: none;\n",
              "      fill: #1967D2;\n",
              "      height: 32px;\n",
              "      padding: 0 0 0 0;\n",
              "      width: 32px;\n",
              "    }\n",
              "\n",
              "    .colab-df-convert:hover {\n",
              "      background-color: #E2EBFA;\n",
              "      box-shadow: 0px 1px 2px rgba(60, 64, 67, 0.3), 0px 1px 3px 1px rgba(60, 64, 67, 0.15);\n",
              "      fill: #174EA6;\n",
              "    }\n",
              "\n",
              "    [theme=dark] .colab-df-convert {\n",
              "      background-color: #3B4455;\n",
              "      fill: #D2E3FC;\n",
              "    }\n",
              "\n",
              "    [theme=dark] .colab-df-convert:hover {\n",
              "      background-color: #434B5C;\n",
              "      box-shadow: 0px 1px 3px 1px rgba(0, 0, 0, 0.15);\n",
              "      filter: drop-shadow(0px 1px 2px rgba(0, 0, 0, 0.3));\n",
              "      fill: #FFFFFF;\n",
              "    }\n",
              "  </style>\n",
              "\n",
              "      <script>\n",
              "        const buttonEl =\n",
              "          document.querySelector('#df-72e59e89-42ca-4e5d-b70b-f8984f02da5f button.colab-df-convert');\n",
              "        buttonEl.style.display =\n",
              "          google.colab.kernel.accessAllowed ? 'block' : 'none';\n",
              "\n",
              "        async function convertToInteractive(key) {\n",
              "          const element = document.querySelector('#df-72e59e89-42ca-4e5d-b70b-f8984f02da5f');\n",
              "          const dataTable =\n",
              "            await google.colab.kernel.invokeFunction('convertToInteractive',\n",
              "                                                     [key], {});\n",
              "          if (!dataTable) return;\n",
              "\n",
              "          const docLinkHtml = 'Like what you see? Visit the ' +\n",
              "            '<a target=\"_blank\" href=https://colab.research.google.com/notebooks/data_table.ipynb>data table notebook</a>'\n",
              "            + ' to learn more about interactive tables.';\n",
              "          element.innerHTML = '';\n",
              "          dataTable['output_type'] = 'display_data';\n",
              "          await google.colab.output.renderOutput(dataTable, element);\n",
              "          const docLink = document.createElement('div');\n",
              "          docLink.innerHTML = docLinkHtml;\n",
              "          element.appendChild(docLink);\n",
              "        }\n",
              "      </script>\n",
              "    </div>\n",
              "  </div>\n",
              "  "
            ]
          },
          "metadata": {},
          "execution_count": 14
        }
      ]
    },
    {
      "cell_type": "code",
      "source": [
        "pub_data_16 = pd.read_excel('/content/drive/MyDrive/Colab Notebooks/DATA340/assignments/Final/UNCNewspaperDatabase_12_17_20.xlsx', sheet_name='UNC 2016 Newspapers')\n",
        "pub_data_14 = pd.read_excel('/content/drive/MyDrive/Colab Notebooks/DATA340/assignments/Final/UNCNewspaperDatabase_12_17_20.xlsx', sheet_name='UNC 2014 Newspapers')\n",
        "pub_data_04 = pd.read_excel('/content/drive/MyDrive/Colab Notebooks/DATA340/assignments/Final/UNCNewspaperDatabase_12_17_20.xlsx', sheet_name='UNC 2004 Newspapers')"
      ],
      "metadata": {
        "id": "7Fp3QSyoIOtl"
      },
      "execution_count": null,
      "outputs": []
    },
    {
      "cell_type": "code",
      "source": [
        "pub_data_16['year'] = '2016'\n",
        "pub_data_14['year'] = '2014'\n",
        "pub_data_04['year'] = '2004'"
      ],
      "metadata": {
        "id": "U1xesXGOK-9S"
      },
      "execution_count": null,
      "outputs": []
    },
    {
      "cell_type": "code",
      "source": [
        "full_data = pd.concat([pub_data_20,pub_data_16,pub_data_14,pub_data_04])\n",
        "full_data['year'].value_counts()"
      ],
      "metadata": {
        "colab": {
          "base_uri": "https://localhost:8080/"
        },
        "id": "Ot2BJqIaLRiz",
        "outputId": "b6b9c40a-bff7-4ed1-bf29-6c97e0d39912"
      },
      "execution_count": null,
      "outputs": [
        {
          "output_type": "execute_result",
          "data": {
            "text/plain": [
              "2004    8930\n",
              "2014    7933\n",
              "2016    7854\n",
              "2020    6736\n",
              "Name: year, dtype: int64"
            ]
          },
          "metadata": {},
          "execution_count": 21
        }
      ]
    },
    {
      "cell_type": "markdown",
      "source": [
        "### frequency plot 2022"
      ],
      "metadata": {
        "id": "g72WImGwJyC7"
      }
    },
    {
      "cell_type": "code",
      "source": [
        "data.Year = data.Year.astype(int)\n",
        "data = data.sort_values(by='Year', ascending=True)\n",
        "data"
      ],
      "metadata": {
        "colab": {
          "base_uri": "https://localhost:8080/",
          "height": 206
        },
        "id": "ksrf27pmSYVD",
        "outputId": "bf1af409-8ac5-49c1-f70d-4412c46d564d"
      },
      "execution_count": null,
      "outputs": [
        {
          "output_type": "execute_result",
          "data": {
            "text/plain": [
              "   Year  Total Number of Deals  Number of Daily Papers Sold  \\\n",
              "0  2017                     31                           80   \n",
              "1  2018                     36                           45   \n",
              "2  2019                     30                          154   \n",
              "3  2020                     19                           81   \n",
              "4  2021                     21                           42   \n",
              "\n",
              "   Total Deal Volume ($)  \n",
              "0              347970000  \n",
              "1              857420000  \n",
              "2             1330000000  \n",
              "3              460000000  \n",
              "4              678000000  "
            ],
            "text/html": [
              "\n",
              "  <div id=\"df-bbcb1175-0ffd-4abf-a9d5-60c67f62a77f\">\n",
              "    <div class=\"colab-df-container\">\n",
              "      <div>\n",
              "<style scoped>\n",
              "    .dataframe tbody tr th:only-of-type {\n",
              "        vertical-align: middle;\n",
              "    }\n",
              "\n",
              "    .dataframe tbody tr th {\n",
              "        vertical-align: top;\n",
              "    }\n",
              "\n",
              "    .dataframe thead th {\n",
              "        text-align: right;\n",
              "    }\n",
              "</style>\n",
              "<table border=\"1\" class=\"dataframe\">\n",
              "  <thead>\n",
              "    <tr style=\"text-align: right;\">\n",
              "      <th></th>\n",
              "      <th>Year</th>\n",
              "      <th>Total Number of Deals</th>\n",
              "      <th>Number of Daily Papers Sold</th>\n",
              "      <th>Total Deal Volume ($)</th>\n",
              "    </tr>\n",
              "  </thead>\n",
              "  <tbody>\n",
              "    <tr>\n",
              "      <th>0</th>\n",
              "      <td>2017</td>\n",
              "      <td>31</td>\n",
              "      <td>80</td>\n",
              "      <td>347970000</td>\n",
              "    </tr>\n",
              "    <tr>\n",
              "      <th>1</th>\n",
              "      <td>2018</td>\n",
              "      <td>36</td>\n",
              "      <td>45</td>\n",
              "      <td>857420000</td>\n",
              "    </tr>\n",
              "    <tr>\n",
              "      <th>2</th>\n",
              "      <td>2019</td>\n",
              "      <td>30</td>\n",
              "      <td>154</td>\n",
              "      <td>1330000000</td>\n",
              "    </tr>\n",
              "    <tr>\n",
              "      <th>3</th>\n",
              "      <td>2020</td>\n",
              "      <td>19</td>\n",
              "      <td>81</td>\n",
              "      <td>460000000</td>\n",
              "    </tr>\n",
              "    <tr>\n",
              "      <th>4</th>\n",
              "      <td>2021</td>\n",
              "      <td>21</td>\n",
              "      <td>42</td>\n",
              "      <td>678000000</td>\n",
              "    </tr>\n",
              "  </tbody>\n",
              "</table>\n",
              "</div>\n",
              "      <button class=\"colab-df-convert\" onclick=\"convertToInteractive('df-bbcb1175-0ffd-4abf-a9d5-60c67f62a77f')\"\n",
              "              title=\"Convert this dataframe to an interactive table.\"\n",
              "              style=\"display:none;\">\n",
              "        \n",
              "  <svg xmlns=\"http://www.w3.org/2000/svg\" height=\"24px\"viewBox=\"0 0 24 24\"\n",
              "       width=\"24px\">\n",
              "    <path d=\"M0 0h24v24H0V0z\" fill=\"none\"/>\n",
              "    <path d=\"M18.56 5.44l.94 2.06.94-2.06 2.06-.94-2.06-.94-.94-2.06-.94 2.06-2.06.94zm-11 1L8.5 8.5l.94-2.06 2.06-.94-2.06-.94L8.5 2.5l-.94 2.06-2.06.94zm10 10l.94 2.06.94-2.06 2.06-.94-2.06-.94-.94-2.06-.94 2.06-2.06.94z\"/><path d=\"M17.41 7.96l-1.37-1.37c-.4-.4-.92-.59-1.43-.59-.52 0-1.04.2-1.43.59L10.3 9.45l-7.72 7.72c-.78.78-.78 2.05 0 2.83L4 21.41c.39.39.9.59 1.41.59.51 0 1.02-.2 1.41-.59l7.78-7.78 2.81-2.81c.8-.78.8-2.07 0-2.86zM5.41 20L4 18.59l7.72-7.72 1.47 1.35L5.41 20z\"/>\n",
              "  </svg>\n",
              "      </button>\n",
              "      \n",
              "  <style>\n",
              "    .colab-df-container {\n",
              "      display:flex;\n",
              "      flex-wrap:wrap;\n",
              "      gap: 12px;\n",
              "    }\n",
              "\n",
              "    .colab-df-convert {\n",
              "      background-color: #E8F0FE;\n",
              "      border: none;\n",
              "      border-radius: 50%;\n",
              "      cursor: pointer;\n",
              "      display: none;\n",
              "      fill: #1967D2;\n",
              "      height: 32px;\n",
              "      padding: 0 0 0 0;\n",
              "      width: 32px;\n",
              "    }\n",
              "\n",
              "    .colab-df-convert:hover {\n",
              "      background-color: #E2EBFA;\n",
              "      box-shadow: 0px 1px 2px rgba(60, 64, 67, 0.3), 0px 1px 3px 1px rgba(60, 64, 67, 0.15);\n",
              "      fill: #174EA6;\n",
              "    }\n",
              "\n",
              "    [theme=dark] .colab-df-convert {\n",
              "      background-color: #3B4455;\n",
              "      fill: #D2E3FC;\n",
              "    }\n",
              "\n",
              "    [theme=dark] .colab-df-convert:hover {\n",
              "      background-color: #434B5C;\n",
              "      box-shadow: 0px 1px 3px 1px rgba(0, 0, 0, 0.15);\n",
              "      filter: drop-shadow(0px 1px 2px rgba(0, 0, 0, 0.3));\n",
              "      fill: #FFFFFF;\n",
              "    }\n",
              "  </style>\n",
              "\n",
              "      <script>\n",
              "        const buttonEl =\n",
              "          document.querySelector('#df-bbcb1175-0ffd-4abf-a9d5-60c67f62a77f button.colab-df-convert');\n",
              "        buttonEl.style.display =\n",
              "          google.colab.kernel.accessAllowed ? 'block' : 'none';\n",
              "\n",
              "        async function convertToInteractive(key) {\n",
              "          const element = document.querySelector('#df-bbcb1175-0ffd-4abf-a9d5-60c67f62a77f');\n",
              "          const dataTable =\n",
              "            await google.colab.kernel.invokeFunction('convertToInteractive',\n",
              "                                                     [key], {});\n",
              "          if (!dataTable) return;\n",
              "\n",
              "          const docLinkHtml = 'Like what you see? Visit the ' +\n",
              "            '<a target=\"_blank\" href=https://colab.research.google.com/notebooks/data_table.ipynb>data table notebook</a>'\n",
              "            + ' to learn more about interactive tables.';\n",
              "          element.innerHTML = '';\n",
              "          dataTable['output_type'] = 'display_data';\n",
              "          await google.colab.output.renderOutput(dataTable, element);\n",
              "          const docLink = document.createElement('div');\n",
              "          docLink.innerHTML = docLinkHtml;\n",
              "          element.appendChild(docLink);\n",
              "        }\n",
              "      </script>\n",
              "    </div>\n",
              "  </div>\n",
              "  "
            ]
          },
          "metadata": {},
          "execution_count": 147
        }
      ]
    },
    {
      "cell_type": "code",
      "source": [
        "colors=['#00332f','#07415b','#234787','#4e48a8','#8148b8']\n",
        "colors.reverse()"
      ],
      "metadata": {
        "id": "uDy0L5HkdeYi"
      },
      "execution_count": null,
      "outputs": []
    },
    {
      "cell_type": "code",
      "source": [
        "p = ggplot(data = data, \n",
        "           mapping = aes(x='Year',y='Total Deal Volume ($)',fill='Year'))\n",
        "(p + geom_col(color=colors, fill=colors)  +\\\n",
        "    coord_flip() +\\\n",
        "    scale_y_continuous(expand=(0,0)) +\\\n",
        "    theme(figure_size=(16, 4), plot_background=element_rect(fill='#FBFBf8'),panel_background=element_blank(),axis_ticks_major=element_blank(), \n",
        "          axis_title_y=element_blank(), axis_title_x=element_blank(),axis_text_x=element_blank(),\n",
        "          axis_text_y=element_text(family='monospace', size=12)\n",
        "          )\n",
        "   )"
      ],
      "metadata": {
        "colab": {
          "base_uri": "https://localhost:8080/",
          "height": 347
        },
        "id": "QNfMDJDgJzXs",
        "outputId": "3350731f-e3b9-4f56-9838-583fae35ae82"
      },
      "execution_count": null,
      "outputs": [
        {
          "output_type": "display_data",
          "data": {
            "text/plain": [
              "<Figure size 1600x400 with 1 Axes>"
            ],
            "image/png": "[encoded data removed]"
          },
          "metadata": {}
        },
        {
          "output_type": "execute_result",
          "data": {
            "text/plain": [
              "<ggplot: (8743197876161)>"
            ]
          },
          "metadata": {},
          "execution_count": 157
        }
      ]
    },
    {
      "cell_type": "code",
      "source": [],
      "metadata": {
        "id": "nwWEgSpeKCr3"
      },
      "execution_count": null,
      "outputs": []
    }
  ]
}