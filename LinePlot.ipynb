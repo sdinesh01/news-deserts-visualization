{
  "nbformat": 4,
  "nbformat_minor": 0,
  "metadata": {
    "colab": {
      "provenance": [],
      "authorship_tag": "ABX9TyNjYw7tm12RGqacSlVlMP3J",
      "include_colab_link": true
    },
    "kernelspec": {
      "name": "python3",
      "display_name": "Python 3"
    },
    "language_info": {
      "name": "python"
    }
  },
  "cells": [
    {
      "cell_type": "markdown",
      "metadata": {
        "id": "view-in-github",
        "colab_type": "text"
      },
      "source": [
        "<a href=\"https://colab.research.google.com/github/sdinesh01/news-deserts-visualization/blob/main/LinePlot.ipynb\" target=\"_parent\"><img src=\"https://colab.research.google.com/assets/colab-badge.svg\" alt=\"Open In Colab\"/></a>"
      ]
    },
    {
      "cell_type": "code",
      "execution_count": null,
      "metadata": {
        "colab": {
          "base_uri": "https://localhost:8080/"
        },
        "id": "w3TMTA5KwZBj",
        "outputId": "9deb7ebb-4ffa-436d-8060-6e52a4f35c1d"
      },
      "outputs": [
        {
          "output_type": "stream",
          "name": "stdout",
          "text": [
            "Mounted at /content/drive\n"
          ]
        }
      ],
      "source": [
        "from google.colab import drive\n",
        "drive.mount('/content/drive')"
      ]
    },
    {
      "cell_type": "code",
      "source": [
        "import pandas as pd\n",
        "import numpy as np\n",
        "import statsmodels as sm\n",
        "import matplotlib.pyplot as plt\n",
        "import seaborn as sns\n",
        "from plotnine import *\n",
        "from plotly import *\n",
        "import plotly\n",
        "import plotly.graph_objects as go\n",
        "import plotly.express as px\n",
        "from plotly.subplots import make_subplots"
      ],
      "metadata": {
        "id": "oN5KnAMeyd7I"
      },
      "execution_count": null,
      "outputs": []
    },
    {
      "cell_type": "code",
      "source": [
        "data = pd.read_csv('/content/drive/MyDrive/Colab Notebooks/DATA340/assignments/Final/employment figs  - Sheet1.csv',header=None)\n",
        "data.rename(columns={0:'Year',1:'Employees'},inplace=True)"
      ],
      "metadata": {
        "id": "XdduEfnzyobm"
      },
      "execution_count": null,
      "outputs": []
    },
    {
      "cell_type": "code",
      "source": [
        "data['Employees'] = [ cell.replace(',','')for cell in data['Employees']]"
      ],
      "metadata": {
        "id": "fiJo0Ina5sOK"
      },
      "execution_count": null,
      "outputs": []
    },
    {
      "cell_type": "code",
      "source": [
        "data['Employees'] = data['Employees'].astype('float')\n",
        "data.dtypes"
      ],
      "metadata": {
        "colab": {
          "base_uri": "https://localhost:8080/"
        },
        "id": "BSSQ1cdp5ObH",
        "outputId": "c358cbc8-87d0-4f17-eda7-927b9dadda7d"
      },
      "execution_count": null,
      "outputs": [
        {
          "output_type": "execute_result",
          "data": {
            "text/plain": [
              "Year           int64\n",
              "Employees    float64\n",
              "dtype: object"
            ]
          },
          "metadata": {},
          "execution_count": 5
        }
      ]
    },
    {
      "cell_type": "code",
      "source": [
        "ticks = [0,20000,40000,60000,80000]\n",
        "labels = []\n",
        "for k in ticks:\n",
        "  k1=(k//1000)\n",
        "  labels.append(str(k1) + 'k')\n",
        "\n",
        "print(labels)"
      ],
      "metadata": {
        "id": "SYmuzW2v5GF_",
        "colab": {
          "base_uri": "https://localhost:8080/"
        },
        "outputId": "ba97086d-0246-446a-8839-00625fcca82d"
      },
      "execution_count": null,
      "outputs": [
        {
          "output_type": "execute_result",
          "data": {
            "text/plain": [
              "['0k', '20k', '40k', '60k', '80k']"
            ]
          },
          "metadata": {},
          "execution_count": 6
        }
      ]
    },
    {
      "cell_type": "code",
      "source": [
        "p = ggplot(data=data,mapping=aes(x='Year',y='Employees'))\n",
        "(p + geom_point(color='#ee8e80',size=3,alpha=1) +\n",
        "     geom_line(inherit_aes=False, color='black',position='identity',\n",
        "               mapping=aes(x='Year',y='Employees',group=1)) +\n",
        "     scale_y_continuous(limits=(0,80000), labels=labels) +\n",
        "     labs(title='Number of Employees in the Newspaper Sector from 2004 to 2020') +\n",
        "     theme(plot_background=element_rect(fill='#fbfbf8'), \n",
        "           panel_grid_major = element_line(color = 'gainsboro',alpha=0.7),\n",
        "           panel_grid_minor = element_line(color = 'gainsboro',alpha=0.4),\n",
        "           panel_background=element_blank(),\n",
        "           axis_text_y=element_text(family='monospace'),\n",
        "           axis_text_x=element_text(family='monospace'),\n",
        "           axis_title_x=element_blank(),\n",
        "           axis_title_y=element_text(size=10),\n",
        "           plot_title=element_text(size=10))\n",
        ")"
      ],
      "metadata": {
        "colab": {
          "base_uri": "https://localhost:8080/",
          "height": 465
        },
        "id": "zTRmqCDlzH93",
        "outputId": "b4524986-3edc-415a-f217-d1de552eb3d7"
      },
      "execution_count": null,
      "outputs": [
        {
          "output_type": "display_data",
          "data": {
            "text/plain": [
              "<Figure size 640x480 with 1 Axes>"
            ],
            "image/png": "[encoded data removed]"
          },
          "metadata": {}
        },
        {
          "output_type": "execute_result",
          "data": {
            "text/plain": [
              "<ggplot: (8731311001911)>"
            ]
          },
          "metadata": {},
          "execution_count": 22
        }
      ]
    },
    {
      "cell_type": "code",
      "source": [],
      "metadata": {
        "id": "KVReasN6-mEy"
      },
      "execution_count": null,
      "outputs": []
    }
  ]
}