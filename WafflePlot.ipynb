{
  "nbformat": 4,
  "nbformat_minor": 0,
  "metadata": {
    "colab": {
      "provenance": [],
      "collapsed_sections": [
        "OEEWY6-qnv_j"
      ],
      "mount_file_id": "1tbbw0nsRQ62gXBRn9_jtw5ch9icW2d6_",
      "authorship_tag": "ABX9TyOmZDQd6W7LTU3s+ieXemSm",
      "include_colab_link": true
    },
    "kernelspec": {
      "name": "python3",
      "display_name": "Python 3"
    },
    "language_info": {
      "name": "python"
    }
  },
  "cells": [
    {
      "cell_type": "markdown",
      "metadata": {
        "id": "view-in-github",
        "colab_type": "text"
      },
      "source": [
        "<a href=\"https://colab.research.google.com/github/sdinesh01/news-deserts-visualization/blob/main/WafflePlot.ipynb\" target=\"_parent\"><img src=\"https://colab.research.google.com/assets/colab-badge.svg\" alt=\"Open In Colab\"/></a>"
      ]
    },
    {
      "cell_type": "markdown",
      "source": [
        "###packages"
      ],
      "metadata": {
        "id": "GzEQtMp2lSJH"
      }
    },
    {
      "cell_type": "code",
      "execution_count": 1,
      "metadata": {
        "colab": {
          "base_uri": "https://localhost:8080/"
        },
        "id": "6t3cMer_lHao",
        "outputId": "41036d42-4c84-40a5-a761-471ba2fb5a85"
      },
      "outputs": [
        {
          "output_type": "stream",
          "name": "stdout",
          "text": [
            "Mounted at /content/drive\n"
          ]
        }
      ],
      "source": [
        "from google.colab import drive\n",
        "drive.mount('/content/drive')"
      ]
    },
    {
      "cell_type": "code",
      "source": [
        "!pip install pywaffle"
      ],
      "metadata": {
        "id": "LP7DEl957vXF",
        "colab": {
          "base_uri": "https://localhost:8080/"
        },
        "outputId": "04f31801-a54a-4059-85a3-16d4c55f92ef"
      },
      "execution_count": 2,
      "outputs": [
        {
          "output_type": "stream",
          "name": "stdout",
          "text": [
            "Looking in indexes: https://pypi.org/simple, https://us-python.pkg.dev/colab-wheels/public/simple/\n",
            "Collecting pywaffle\n",
            "  Downloading pywaffle-1.1.0-py2.py3-none-any.whl (30 kB)\n",
            "Requirement already satisfied: matplotlib in /usr/local/lib/python3.8/dist-packages (from pywaffle) (3.2.2)\n",
            "Collecting fontawesomefree\n",
            "  Downloading fontawesomefree-6.2.1-py3-none-any.whl (25.1 MB)\n",
            "\u001b[2K     \u001b[90m━━━━━━━━━━━━━━━━━━━━━━━━━━━━━━━━━━━━━━━━\u001b[0m \u001b[32m25.1/25.1 MB\u001b[0m \u001b[31m20.5 MB/s\u001b[0m eta \u001b[36m0:00:00\u001b[0m\n",
            "\u001b[?25hRequirement already satisfied: python-dateutil>=2.1 in /usr/local/lib/python3.8/dist-packages (from matplotlib->pywaffle) (2.8.2)\n",
            "Requirement already satisfied: numpy>=1.11 in /usr/local/lib/python3.8/dist-packages (from matplotlib->pywaffle) (1.21.6)\n",
            "Requirement already satisfied: cycler>=0.10 in /usr/local/lib/python3.8/dist-packages (from matplotlib->pywaffle) (0.11.0)\n",
            "Requirement already satisfied: pyparsing!=2.0.4,!=2.1.2,!=2.1.6,>=2.0.1 in /usr/local/lib/python3.8/dist-packages (from matplotlib->pywaffle) (3.0.9)\n",
            "Requirement already satisfied: kiwisolver>=1.0.1 in /usr/local/lib/python3.8/dist-packages (from matplotlib->pywaffle) (1.4.4)\n",
            "Requirement already satisfied: six>=1.5 in /usr/local/lib/python3.8/dist-packages (from python-dateutil>=2.1->matplotlib->pywaffle) (1.15.0)\n",
            "Installing collected packages: fontawesomefree, pywaffle\n",
            "Successfully installed fontawesomefree-6.2.1 pywaffle-1.1.0\n"
          ]
        }
      ]
    },
    {
      "cell_type": "code",
      "source": [
        "import pandas as pd\n",
        "import numpy as np\n",
        "import matplotlib.pyplot as plt\n",
        "from pywaffle import Waffle\n",
        "import seaborn as sns\n",
        "from plotnine import *"
      ],
      "metadata": {
        "id": "lLZB1yy_lekB"
      },
      "execution_count": 3,
      "outputs": []
    },
    {
      "cell_type": "markdown",
      "source": [
        "## preprocess"
      ],
      "metadata": {
        "id": "GFl9w34gmS4T"
      }
    },
    {
      "cell_type": "code",
      "source": [
        "from xlrd.book import sheet\n",
        "# for graph on \n",
        "pub_data_20 = pd.read_excel('/content/drive/MyDrive/Colab Notebooks/DATA340/assignments/Final/UNCNewspaperDatabase_12_17_20.xlsx', sheet_name='UNC 2020 Newspapers')\n",
        "pub_data_16 = pd.read_excel('/content/drive/MyDrive/Colab Notebooks/DATA340/assignments/Final/UNCNewspaperDatabase_12_17_20.xlsx', sheet_name='UNC 2016 Newspapers')\n",
        "pub_data_14 = pd.read_excel('/content/drive/MyDrive/Colab Notebooks/DATA340/assignments/Final/UNCNewspaperDatabase_12_17_20.xlsx', sheet_name='UNC 2014 Newspapers')\n",
        "pub_data_04 = pd.read_excel('/content/drive/MyDrive/Colab Notebooks/DATA340/assignments/Final/UNCNewspaperDatabase_12_17_20.xlsx', sheet_name='UNC 2004 Newspapers')"
      ],
      "metadata": {
        "id": "d8v-zuFSlhgV"
      },
      "execution_count": 6,
      "outputs": []
    },
    {
      "cell_type": "code",
      "source": [
        "# subset rows where owner_type in 2020 is not NaN\n",
        "pub_20_owner = pub_data_20[~pub_data_20['owner_type'].isna()]\n",
        "pub_20_owner['year'] = '2020'\n",
        "pub_20_owner.owner_type.value_counts()\n",
        "#pub_20_owner.count()"
      ],
      "metadata": {
        "id": "pRY231IfnVc7",
        "colab": {
          "base_uri": "https://localhost:8080/"
        },
        "outputId": "799631b6-7cdc-4ca7-a85a-86a38bf4aecd"
      },
      "execution_count": 7,
      "outputs": [
        {
          "output_type": "stream",
          "name": "stderr",
          "text": [
            "<ipython-input-7-c6bccef7479a>:3: SettingWithCopyWarning: \n",
            "A value is trying to be set on a copy of a slice from a DataFrame.\n",
            "Try using .loc[row_indexer,col_indexer] = value instead\n",
            "\n",
            "See the caveats in the documentation: https://pandas.pydata.org/pandas-docs/stable/user_guide/indexing.html#returning-a-view-versus-a-copy\n"
          ]
        },
        {
          "output_type": "execute_result",
          "data": {
            "text/plain": [
              "Private        2365\n",
              "Investment      800\n",
              "Public          368\n",
              "Independent       2\n",
              "Name: owner_type, dtype: int64"
            ]
          },
          "metadata": {},
          "execution_count": 7
        }
      ]
    },
    {
      "cell_type": "code",
      "source": [
        "# subset rows where owner_type in 2016 is not NaN\n",
        "pub_16_owner = pub_data_16[~pub_data_16['owner_type'].isna()]\n",
        "pub_16_owner['year'] = '2016'\n",
        "pub_16_owner.owner_type.value_counts()"
      ],
      "metadata": {
        "id": "-lRHKNr4nv2w",
        "colab": {
          "base_uri": "https://localhost:8080/"
        },
        "outputId": "f3aff16a-1e2b-46bd-ebaf-ad30d612d9ea"
      },
      "execution_count": 8,
      "outputs": [
        {
          "output_type": "stream",
          "name": "stderr",
          "text": [
            "<ipython-input-8-3f52a418ee2f>:3: SettingWithCopyWarning: \n",
            "A value is trying to be set on a copy of a slice from a DataFrame.\n",
            "Try using .loc[row_indexer,col_indexer] = value instead\n",
            "\n",
            "See the caveats in the documentation: https://pandas.pydata.org/pandas-docs/stable/user_guide/indexing.html#returning-a-view-versus-a-copy\n"
          ]
        },
        {
          "output_type": "execute_result",
          "data": {
            "text/plain": [
              "Private        1039\n",
              "Investment     1030\n",
              "Public          436\n",
              "Independent       8\n",
              "Name: owner_type, dtype: int64"
            ]
          },
          "metadata": {},
          "execution_count": 8
        }
      ]
    },
    {
      "cell_type": "code",
      "source": [
        "# subset rows where owner_type in 2014 is not NaN\n",
        "pub_14_owner = pub_data_14[~pub_data_14['owner_type'].isna()]\n",
        "pub_14_owner['year'] = '2014'\n",
        "pub_14_owner.owner_type.value_counts()"
      ],
      "metadata": {
        "id": "pXGofbnbpWnX",
        "colab": {
          "base_uri": "https://localhost:8080/"
        },
        "outputId": "0a2bb57d-143b-4c4e-f0bc-506c78a5472d"
      },
      "execution_count": 9,
      "outputs": [
        {
          "output_type": "stream",
          "name": "stderr",
          "text": [
            "<ipython-input-9-f837664d9ca8>:3: SettingWithCopyWarning: \n",
            "A value is trying to be set on a copy of a slice from a DataFrame.\n",
            "Try using .loc[row_indexer,col_indexer] = value instead\n",
            "\n",
            "See the caveats in the documentation: https://pandas.pydata.org/pandas-docs/stable/user_guide/indexing.html#returning-a-view-versus-a-copy\n"
          ]
        },
        {
          "output_type": "execute_result",
          "data": {
            "text/plain": [
              "Private        1065\n",
              "Investment     1031\n",
              "Public          400\n",
              "Independent      33\n",
              "Name: owner_type, dtype: int64"
            ]
          },
          "metadata": {},
          "execution_count": 9
        }
      ]
    },
    {
      "cell_type": "code",
      "source": [
        "# subset rows where owner_type in 2004 is not NaN\n",
        "pub_04_owner = pub_data_04[~pub_data_04['owner_type'].isna()]\n",
        "pub_04_owner['year'] = '2004'\n",
        "#pub_04_owner.owner_type.value_counts()"
      ],
      "metadata": {
        "id": "-NOJt44Qp1js",
        "colab": {
          "base_uri": "https://localhost:8080/"
        },
        "outputId": "e6a2856b-a913-48e2-c74b-c7013c8cd2e6"
      },
      "execution_count": 10,
      "outputs": [
        {
          "output_type": "stream",
          "name": "stderr",
          "text": [
            "<ipython-input-10-4ec32bf6ed65>:3: SettingWithCopyWarning: \n",
            "A value is trying to be set on a copy of a slice from a DataFrame.\n",
            "Try using .loc[row_indexer,col_indexer] = value instead\n",
            "\n",
            "See the caveats in the documentation: https://pandas.pydata.org/pandas-docs/stable/user_guide/indexing.html#returning-a-view-versus-a-copy\n"
          ]
        }
      ]
    },
    {
      "cell_type": "code",
      "source": [
        "#create new df that combines all of the above dfs with new column for year\n",
        "combined_data = pd.concat([pub_20_owner, pub_16_owner, pub_14_owner, pub_04_owner], axis=0)\n",
        "combined_data"
      ],
      "metadata": {
        "id": "1KBUFJ5rp5Kx",
        "colab": {
          "base_uri": "https://localhost:8080/",
          "height": 424
        },
        "outputId": "e5744520-d2cb-460a-830c-fe84d65a55cc"
      },
      "execution_count": 11,
      "outputs": [
        {
          "output_type": "execute_result",
          "data": {
            "text/plain": [
              "     state  newspaper_id                                newspaper_name  \\\n",
              "0       AK         50003                               Anchorage Press   \n",
              "1       AK         18776  The Bristol Bay Times/Dutch Harbor Fisherman   \n",
              "2       AK         18654                            The Arctic Sounder   \n",
              "3       AK         10092                          Anchorage Daily News   \n",
              "4       AK         18943                             The Cordova Times   \n",
              "...    ...           ...                                           ...   \n",
              "8925    NH         56274                                         Hippo   \n",
              "8926    NH         90506                         Laconia Daily Sun The   \n",
              "8927    NH         56271                             Londonderry Times   \n",
              "8928    NH         56272                                 Nutfield News   \n",
              "8929    NH         56273                                Tri-Town Times   \n",
              "\n",
              "     frequency         city                  county  owner_id  \\\n",
              "0            W    Anchorage  Anchorage Municipality    5813.0   \n",
              "1            W    Anchorage  Anchorage Municipality    6028.0   \n",
              "2            W    Anchorage  Anchorage Municipality    6028.0   \n",
              "3            D    Anchorage  Anchorage Municipality    6028.0   \n",
              "4            W      Cordova          Valdez-Cordova    6045.0   \n",
              "...        ...          ...                     ...       ...   \n",
              "8925         W   Manchester            Hillsborough    4629.0   \n",
              "8926         D      Laconia                 Belknap    6155.0   \n",
              "8927         W  Londonderry              Rockingham    4199.0   \n",
              "8928         W  Londonderry              Rockingham    4199.0   \n",
              "8929         W  Londonderry              Rockingham    4199.0   \n",
              "\n",
              "                       owner_name owner_type total_circulation days_published  \\\n",
              "0             Wick Communications    Private           20000.0              1   \n",
              "1      Ryan Binkley & Jason Evans    Private               NaN              1   \n",
              "2      Ryan Binkley & Jason Evans    Private            2000.0              1   \n",
              "3      Ryan Binkley & Jason Evans    Private           33301.0              7   \n",
              "4          Native Village of Eyak    Private             969.0              1   \n",
              "...                           ...        ...               ...            ...   \n",
              "8925                  Reese, Jody    Private               NaN            NaN   \n",
              "8926  Lakes Region News Club, Inc    Private               NaN            NaN   \n",
              "8927      Nutfield Publishing LLC    Private               NaN            NaN   \n",
              "8928      Nutfield Publishing LLC    Private               NaN            NaN   \n",
              "8929      Nutfield Publishing LLC    Private               NaN            NaN   \n",
              "\n",
              "      year  \n",
              "0     2020  \n",
              "1     2020  \n",
              "2     2020  \n",
              "3     2020  \n",
              "4     2020  \n",
              "...    ...  \n",
              "8925  2004  \n",
              "8926  2004  \n",
              "8927  2004  \n",
              "8928  2004  \n",
              "8929  2004  \n",
              "\n",
              "[10852 rows x 12 columns]"
            ],
            "text/html": [
              "\n",
              "  <div id=\"df-bcf0a2c2-83fa-497c-96fd-57690ae8ef87\">\n",
              "    <div class=\"colab-df-container\">\n",
              "      <div>\n",
              "<style scoped>\n",
              "    .dataframe tbody tr th:only-of-type {\n",
              "        vertical-align: middle;\n",
              "    }\n",
              "\n",
              "    .dataframe tbody tr th {\n",
              "        vertical-align: top;\n",
              "    }\n",
              "\n",
              "    .dataframe thead th {\n",
              "        text-align: right;\n",
              "    }\n",
              "</style>\n",
              "<table border=\"1\" class=\"dataframe\">\n",
              "  <thead>\n",
              "    <tr style=\"text-align: right;\">\n",
              "      <th></th>\n",
              "      <th>state</th>\n",
              "      <th>newspaper_id</th>\n",
              "      <th>newspaper_name</th>\n",
              "      <th>frequency</th>\n",
              "      <th>city</th>\n",
              "      <th>county</th>\n",
              "      <th>owner_id</th>\n",
              "      <th>owner_name</th>\n",
              "      <th>owner_type</th>\n",
              "      <th>total_circulation</th>\n",
              "      <th>days_published</th>\n",
              "      <th>year</th>\n",
              "    </tr>\n",
              "  </thead>\n",
              "  <tbody>\n",
              "    <tr>\n",
              "      <th>0</th>\n",
              "      <td>AK</td>\n",
              "      <td>50003</td>\n",
              "      <td>Anchorage Press</td>\n",
              "      <td>W</td>\n",
              "      <td>Anchorage</td>\n",
              "      <td>Anchorage Municipality</td>\n",
              "      <td>5813.0</td>\n",
              "      <td>Wick Communications</td>\n",
              "      <td>Private</td>\n",
              "      <td>20000.0</td>\n",
              "      <td>1</td>\n",
              "      <td>2020</td>\n",
              "    </tr>\n",
              "    <tr>\n",
              "      <th>1</th>\n",
              "      <td>AK</td>\n",
              "      <td>18776</td>\n",
              "      <td>The Bristol Bay Times/Dutch Harbor Fisherman</td>\n",
              "      <td>W</td>\n",
              "      <td>Anchorage</td>\n",
              "      <td>Anchorage Municipality</td>\n",
              "      <td>6028.0</td>\n",
              "      <td>Ryan Binkley &amp; Jason Evans</td>\n",
              "      <td>Private</td>\n",
              "      <td>NaN</td>\n",
              "      <td>1</td>\n",
              "      <td>2020</td>\n",
              "    </tr>\n",
              "    <tr>\n",
              "      <th>2</th>\n",
              "      <td>AK</td>\n",
              "      <td>18654</td>\n",
              "      <td>The Arctic Sounder</td>\n",
              "      <td>W</td>\n",
              "      <td>Anchorage</td>\n",
              "      <td>Anchorage Municipality</td>\n",
              "      <td>6028.0</td>\n",
              "      <td>Ryan Binkley &amp; Jason Evans</td>\n",
              "      <td>Private</td>\n",
              "      <td>2000.0</td>\n",
              "      <td>1</td>\n",
              "      <td>2020</td>\n",
              "    </tr>\n",
              "    <tr>\n",
              "      <th>3</th>\n",
              "      <td>AK</td>\n",
              "      <td>10092</td>\n",
              "      <td>Anchorage Daily News</td>\n",
              "      <td>D</td>\n",
              "      <td>Anchorage</td>\n",
              "      <td>Anchorage Municipality</td>\n",
              "      <td>6028.0</td>\n",
              "      <td>Ryan Binkley &amp; Jason Evans</td>\n",
              "      <td>Private</td>\n",
              "      <td>33301.0</td>\n",
              "      <td>7</td>\n",
              "      <td>2020</td>\n",
              "    </tr>\n",
              "    <tr>\n",
              "      <th>4</th>\n",
              "      <td>AK</td>\n",
              "      <td>18943</td>\n",
              "      <td>The Cordova Times</td>\n",
              "      <td>W</td>\n",
              "      <td>Cordova</td>\n",
              "      <td>Valdez-Cordova</td>\n",
              "      <td>6045.0</td>\n",
              "      <td>Native Village of Eyak</td>\n",
              "      <td>Private</td>\n",
              "      <td>969.0</td>\n",
              "      <td>1</td>\n",
              "      <td>2020</td>\n",
              "    </tr>\n",
              "    <tr>\n",
              "      <th>...</th>\n",
              "      <td>...</td>\n",
              "      <td>...</td>\n",
              "      <td>...</td>\n",
              "      <td>...</td>\n",
              "      <td>...</td>\n",
              "      <td>...</td>\n",
              "      <td>...</td>\n",
              "      <td>...</td>\n",
              "      <td>...</td>\n",
              "      <td>...</td>\n",
              "      <td>...</td>\n",
              "      <td>...</td>\n",
              "    </tr>\n",
              "    <tr>\n",
              "      <th>8925</th>\n",
              "      <td>NH</td>\n",
              "      <td>56274</td>\n",
              "      <td>Hippo</td>\n",
              "      <td>W</td>\n",
              "      <td>Manchester</td>\n",
              "      <td>Hillsborough</td>\n",
              "      <td>4629.0</td>\n",
              "      <td>Reese, Jody</td>\n",
              "      <td>Private</td>\n",
              "      <td>NaN</td>\n",
              "      <td>NaN</td>\n",
              "      <td>2004</td>\n",
              "    </tr>\n",
              "    <tr>\n",
              "      <th>8926</th>\n",
              "      <td>NH</td>\n",
              "      <td>90506</td>\n",
              "      <td>Laconia Daily Sun The</td>\n",
              "      <td>D</td>\n",
              "      <td>Laconia</td>\n",
              "      <td>Belknap</td>\n",
              "      <td>6155.0</td>\n",
              "      <td>Lakes Region News Club, Inc</td>\n",
              "      <td>Private</td>\n",
              "      <td>NaN</td>\n",
              "      <td>NaN</td>\n",
              "      <td>2004</td>\n",
              "    </tr>\n",
              "    <tr>\n",
              "      <th>8927</th>\n",
              "      <td>NH</td>\n",
              "      <td>56271</td>\n",
              "      <td>Londonderry Times</td>\n",
              "      <td>W</td>\n",
              "      <td>Londonderry</td>\n",
              "      <td>Rockingham</td>\n",
              "      <td>4199.0</td>\n",
              "      <td>Nutfield Publishing LLC</td>\n",
              "      <td>Private</td>\n",
              "      <td>NaN</td>\n",
              "      <td>NaN</td>\n",
              "      <td>2004</td>\n",
              "    </tr>\n",
              "    <tr>\n",
              "      <th>8928</th>\n",
              "      <td>NH</td>\n",
              "      <td>56272</td>\n",
              "      <td>Nutfield News</td>\n",
              "      <td>W</td>\n",
              "      <td>Londonderry</td>\n",
              "      <td>Rockingham</td>\n",
              "      <td>4199.0</td>\n",
              "      <td>Nutfield Publishing LLC</td>\n",
              "      <td>Private</td>\n",
              "      <td>NaN</td>\n",
              "      <td>NaN</td>\n",
              "      <td>2004</td>\n",
              "    </tr>\n",
              "    <tr>\n",
              "      <th>8929</th>\n",
              "      <td>NH</td>\n",
              "      <td>56273</td>\n",
              "      <td>Tri-Town Times</td>\n",
              "      <td>W</td>\n",
              "      <td>Londonderry</td>\n",
              "      <td>Rockingham</td>\n",
              "      <td>4199.0</td>\n",
              "      <td>Nutfield Publishing LLC</td>\n",
              "      <td>Private</td>\n",
              "      <td>NaN</td>\n",
              "      <td>NaN</td>\n",
              "      <td>2004</td>\n",
              "    </tr>\n",
              "  </tbody>\n",
              "</table>\n",
              "<p>10852 rows × 12 columns</p>\n",
              "</div>\n",
              "      <button class=\"colab-df-convert\" onclick=\"convertToInteractive('df-bcf0a2c2-83fa-497c-96fd-57690ae8ef87')\"\n",
              "              title=\"Convert this dataframe to an interactive table.\"\n",
              "              style=\"display:none;\">\n",
              "        \n",
              "  <svg xmlns=\"http://www.w3.org/2000/svg\" height=\"24px\"viewBox=\"0 0 24 24\"\n",
              "       width=\"24px\">\n",
              "    <path d=\"M0 0h24v24H0V0z\" fill=\"none\"/>\n",
              "    <path d=\"M18.56 5.44l.94 2.06.94-2.06 2.06-.94-2.06-.94-.94-2.06-.94 2.06-2.06.94zm-11 1L8.5 8.5l.94-2.06 2.06-.94-2.06-.94L8.5 2.5l-.94 2.06-2.06.94zm10 10l.94 2.06.94-2.06 2.06-.94-2.06-.94-.94-2.06-.94 2.06-2.06.94z\"/><path d=\"M17.41 7.96l-1.37-1.37c-.4-.4-.92-.59-1.43-.59-.52 0-1.04.2-1.43.59L10.3 9.45l-7.72 7.72c-.78.78-.78 2.05 0 2.83L4 21.41c.39.39.9.59 1.41.59.51 0 1.02-.2 1.41-.59l7.78-7.78 2.81-2.81c.8-.78.8-2.07 0-2.86zM5.41 20L4 18.59l7.72-7.72 1.47 1.35L5.41 20z\"/>\n",
              "  </svg>\n",
              "      </button>\n",
              "      \n",
              "  <style>\n",
              "    .colab-df-container {\n",
              "      display:flex;\n",
              "      flex-wrap:wrap;\n",
              "      gap: 12px;\n",
              "    }\n",
              "\n",
              "    .colab-df-convert {\n",
              "      background-color: #E8F0FE;\n",
              "      border: none;\n",
              "      border-radius: 50%;\n",
              "      cursor: pointer;\n",
              "      display: none;\n",
              "      fill: #1967D2;\n",
              "      height: 32px;\n",
              "      padding: 0 0 0 0;\n",
              "      width: 32px;\n",
              "    }\n",
              "\n",
              "    .colab-df-convert:hover {\n",
              "      background-color: #E2EBFA;\n",
              "      box-shadow: 0px 1px 2px rgba(60, 64, 67, 0.3), 0px 1px 3px 1px rgba(60, 64, 67, 0.15);\n",
              "      fill: #174EA6;\n",
              "    }\n",
              "\n",
              "    [theme=dark] .colab-df-convert {\n",
              "      background-color: #3B4455;\n",
              "      fill: #D2E3FC;\n",
              "    }\n",
              "\n",
              "    [theme=dark] .colab-df-convert:hover {\n",
              "      background-color: #434B5C;\n",
              "      box-shadow: 0px 1px 3px 1px rgba(0, 0, 0, 0.15);\n",
              "      filter: drop-shadow(0px 1px 2px rgba(0, 0, 0, 0.3));\n",
              "      fill: #FFFFFF;\n",
              "    }\n",
              "  </style>\n",
              "\n",
              "      <script>\n",
              "        const buttonEl =\n",
              "          document.querySelector('#df-bcf0a2c2-83fa-497c-96fd-57690ae8ef87 button.colab-df-convert');\n",
              "        buttonEl.style.display =\n",
              "          google.colab.kernel.accessAllowed ? 'block' : 'none';\n",
              "\n",
              "        async function convertToInteractive(key) {\n",
              "          const element = document.querySelector('#df-bcf0a2c2-83fa-497c-96fd-57690ae8ef87');\n",
              "          const dataTable =\n",
              "            await google.colab.kernel.invokeFunction('convertToInteractive',\n",
              "                                                     [key], {});\n",
              "          if (!dataTable) return;\n",
              "\n",
              "          const docLinkHtml = 'Like what you see? Visit the ' +\n",
              "            '<a target=\"_blank\" href=https://colab.research.google.com/notebooks/data_table.ipynb>data table notebook</a>'\n",
              "            + ' to learn more about interactive tables.';\n",
              "          element.innerHTML = '';\n",
              "          dataTable['output_type'] = 'display_data';\n",
              "          await google.colab.output.renderOutput(dataTable, element);\n",
              "          const docLink = document.createElement('div');\n",
              "          docLink.innerHTML = docLinkHtml;\n",
              "          element.appendChild(docLink);\n",
              "        }\n",
              "      </script>\n",
              "    </div>\n",
              "  </div>\n",
              "  "
            ]
          },
          "metadata": {},
          "execution_count": 11
        }
      ]
    },
    {
      "cell_type": "code",
      "source": [
        "## For each year, create a new DF with the counts of each owner type\n",
        "\n",
        "# 2020\n",
        "z = pd.DataFrame(pub_20_owner.owner_type.value_counts())\n",
        "z['owner_type'].sum()\n",
        "# 2016\n",
        "y = pd.DataFrame(pub_16_owner.owner_type.value_counts())\n",
        "y['owner_type'].sum()\n",
        "# 2014\n",
        "x = pd.DataFrame(pub_14_owner.owner_type.value_counts())\n",
        "x['owner_type'].sum()\n",
        "# 2004\n",
        "w = pd.DataFrame(pub_04_owner.owner_type.value_counts())\n",
        "w['owner_type'].sum()\n"
      ],
      "metadata": {
        "colab": {
          "base_uri": "https://localhost:8080/"
        },
        "id": "6ihD-yhxvser",
        "outputId": "014104a5-b2e6-4e75-cf9f-4253ddc6eab1"
      },
      "execution_count": 12,
      "outputs": [
        {
          "output_type": "execute_result",
          "data": {
            "text/plain": [
              "2275"
            ]
          },
          "metadata": {},
          "execution_count": 12
        }
      ]
    },
    {
      "cell_type": "code",
      "source": [
        "## For each DF created above, calculate the percentage of each owner type\n",
        "# create new col with the percentage and a new col for the year\n",
        "\n",
        "pct = []\n",
        "for idx,g in enumerate(z):\n",
        "  pct = (z['owner_type']/z['owner_type'].sum())*100\n",
        "  pct.append(pct)\n",
        "z['pct'] = pct\n",
        "z['year'] = '2020'  \n",
        "\n",
        "pct = []\n",
        "for idx,g in enumerate(y):\n",
        "  pct = (y['owner_type']/y['owner_type'].sum())*100\n",
        "  pct.append(pct)\n",
        "y['pct'] = pct\n",
        "y['year'] = '2016'  \n",
        "\n",
        "pct = []\n",
        "for idx,g in enumerate(x):\n",
        "  pct = (x['owner_type']/x['owner_type'].sum())*100\n",
        "  pct.append(pct)\n",
        "x['pct'] = pct\n",
        "x['year'] = '2014'  \n",
        "\n",
        "pct = []\n",
        "for idx,g in enumerate(z):\n",
        "  pct = (w['owner_type']/w['owner_type'].sum())*100\n",
        "  pct.append(pct)\n",
        "w['pct'] = pct\n",
        "w['year'] = '2004'  \n"
      ],
      "metadata": {
        "id": "iAyOWh7z3QUU"
      },
      "execution_count": 13,
      "outputs": []
    },
    {
      "cell_type": "code",
      "source": [
        "# calculate the proportion of squares in a 10x10 grid for each owner type; append the proportion to the DF\n",
        "total1 = sum(z['owner_type'])\n",
        "proportions = [(float(value) / total1) for value in z['owner_type']]\n",
        "tiles_per_category = [round((proportion * 100),ndigits=0) for proportion in proportions]\n",
        "print(tiles_per_category)\n",
        "\n",
        "z['proportions'] = tiles_per_category"
      ],
      "metadata": {
        "colab": {
          "base_uri": "https://localhost:8080/"
        },
        "id": "hi633rNdrcs-",
        "outputId": "f0bba1c3-b2f7-4bbb-f02a-5a17a878732b"
      },
      "execution_count": 14,
      "outputs": [
        {
          "output_type": "stream",
          "name": "stdout",
          "text": [
            "[67.0, 23.0, 10.0, 0.0]\n"
          ]
        }
      ]
    },
    {
      "cell_type": "code",
      "source": [
        "# calculate the proportion of squares in a 10x10 grid for each owner type; append the proportion to the DF\n",
        "total2 = sum(y['owner_type'])\n",
        "proportions2 = [(float(value) / total2) for value in y['owner_type']]\n",
        "\n",
        "tiles_per_category = [round((proportion * 100),ndigits=0) for proportion in proportions2]\n",
        "print(tiles_per_category)\n",
        "\n",
        "y['proportions'] = tiles_per_category"
      ],
      "metadata": {
        "id": "JzH594EsqOqL",
        "colab": {
          "base_uri": "https://localhost:8080/"
        },
        "outputId": "a462b92b-4629-4f08-f340-5506e2252a56"
      },
      "execution_count": 15,
      "outputs": [
        {
          "output_type": "stream",
          "name": "stdout",
          "text": [
            "[41.0, 41.0, 17.0, 0.0]\n"
          ]
        }
      ]
    },
    {
      "cell_type": "code",
      "source": [
        "# calculate the proportion of squares in a 10x10 grid for each owner type; append the proportion to the DF\n",
        "total3 = sum(x['owner_type'])\n",
        "proportions3 = [(float(value) / total2) for value in x['owner_type']]\n",
        "tiles_per_category = [round((proportion * 100),ndigits=0) for proportion in proportions3]\n",
        "print(tiles_per_category)\n",
        "\n",
        "x['proportions'] = tiles_per_category"
      ],
      "metadata": {
        "colab": {
          "base_uri": "https://localhost:8080/"
        },
        "id": "N6v1Pm-Vtpbg",
        "outputId": "a40839bd-1b52-46bc-e034-6f156984650b"
      },
      "execution_count": 16,
      "outputs": [
        {
          "output_type": "stream",
          "name": "stdout",
          "text": [
            "[42.0, 41.0, 16.0, 1.0]\n"
          ]
        }
      ]
    },
    {
      "cell_type": "code",
      "source": [
        "# calculate the proportion of squares in a 10x10 grid for each owner type; append the proportion to the DF\n",
        "total3 = sum(w['owner_type'])\n",
        "proportions3 = [(float(value) / total2) for value in w['owner_type']]\n",
        "\n",
        "tiles_per_category = [round((proportion * 100),ndigits=0) for proportion in proportions3]\n",
        "print(tiles_per_category)\n",
        "\n",
        "w['proportions'] = tiles_per_category"
      ],
      "metadata": {
        "id": "2lznhDQD9PeY",
        "colab": {
          "base_uri": "https://localhost:8080/"
        },
        "outputId": "86d9ac1e-16ff-4f21-fb16-96148365018c"
      },
      "execution_count": 17,
      "outputs": [
        {
          "output_type": "stream",
          "name": "stdout",
          "text": [
            "[46.0, 27.0, 18.0, 0.0]\n"
          ]
        }
      ]
    },
    {
      "cell_type": "markdown",
      "source": [
        "## Waffle plot"
      ],
      "metadata": {
        "id": "xyqYJFCxi6of"
      }
    },
    {
      "cell_type": "code",
      "source": [
        "def generate_colors(color_list, number):\n",
        "  ''' \n",
        "    This function randomly selects n colors from an inputted list\n",
        "      Input: \n",
        "      color_list = list of hexadecimal codes to choose from\n",
        "      number = number of colors to randomly select from the list\n",
        "  '''\n",
        "  s = set()\n",
        "  while len(s)<number:\n",
        "    rand_colors = [random.choice(color_list)]\n",
        "    for x in rand_colors:\n",
        "        if x not in s: \n",
        "          s.add(x)\n",
        "  return list(s)"
      ],
      "metadata": {
        "id": "6gksGb552W3H"
      },
      "execution_count": 18,
      "outputs": []
    },
    {
      "cell_type": "code",
      "source": [
        "fig = plt.figure(\n",
        "    FigureClass=Waffle, rows=10, columns=10, figsize=(20,5),\n",
        "    plots = {\n",
        "        142:{\n",
        "            'values':list(x.proportions),\n",
        "            'labels':list(x.index),\n",
        "            'colors':['#07415b','#4e48a8','#b14db5','#eb718f'],\n",
        "             'title': {'label': '2014', 'loc': 'left', 'fontsize': 12}\n",
        "             },\n",
        "        143:{'values': list(y.proportions),\n",
        "            'labels': list(y.index),\n",
        "             'colors':['#07415b','#4e48a8','#b14db5','#eb718f'],\n",
        "             'title': {'label': '2016', 'loc': 'left', 'fontsize': 12}\n",
        "             },\n",
        "        144:{'values': list(z.proportions),\n",
        "            'labels': list(z.index),\n",
        "             'colors':['#07415b','#4e48a8','#b14db5','#eb718f'],\n",
        "             'legend':{'bbox_to_anchor': (-2,-0.2),'loc': 'lower left','ncol': len(z.index)\n",
        "                       },\n",
        "             'title': {'label': '2020', 'loc': 'left', 'fontsize': 12}\n",
        "             },\n",
        "        141:{'values': list(w.proportions),\n",
        "            'labels': list(w.index),\n",
        "            'colors':['#07415b','#4e48a8','#b14db5','#eb718f'],\n",
        "             'title': {'label': '2004', 'loc': 'left', 'fontsize': 12}\n",
        "             },\n",
        "\n",
        "    },\n",
        ")\n",
        "\n",
        "fig.axes[0].get_legend().remove()\n",
        "fig.axes[1].get_legend().remove()\n",
        "#fig.axes[2].get_legend().remove()\n",
        "fig.axes[3].get_legend().remove()\n",
        "plt.rcParams[\"font.family\"] = \"monospace\"\n",
        "fig.set_facecolor('#fbfbf8')\n",
        "fig.suptitle('Local Newspaper Owner Types as a Percentage of the Total Market', fontsize=16)\n",
        "\n",
        "fig.show()"
      ],
      "metadata": {
        "id": "ag0jTyxpi8a-",
        "colab": {
          "base_uri": "https://localhost:8080/",
          "height": 403
        },
        "outputId": "17781796-5177-4044-ab1d-524454d0316a"
      },
      "execution_count": 19,
      "outputs": [
        {
          "output_type": "stream",
          "name": "stderr",
          "text": [
            "/usr/local/lib/python3.8/dist-packages/IPython/core/events.py:88: UserWarning: Tight layout not applied. tight_layout cannot make axes width small enough to accommodate all axes decorations\n",
            "/usr/local/lib/python3.8/dist-packages/IPython/core/pylabtools.py:128: UserWarning: Tight layout not applied. tight_layout cannot make axes width small enough to accommodate all axes decorations\n"
          ]
        },
        {
          "output_type": "display_data",
          "data": {
            "text/plain": [
              "<Waffle size 1440x360 with 4 Axes>"
            ],
            "image/png": "[encoded data removed]"
          },
          "metadata": {}
        }
      ]
    },
    {
      "cell_type": "code",
      "source": [],
      "metadata": {
        "id": "x70Xnn3l6eOP"
      },
      "execution_count": 19,
      "outputs": []
    }
  ]
}